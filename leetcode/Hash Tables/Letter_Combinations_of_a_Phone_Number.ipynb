{
 "cells": [
  {
   "cell_type": "markdown",
   "metadata": {},
   "source": [
    "![title](images/letter_combinations.png)"
   ]
  },
  {
   "cell_type": "code",
   "execution_count": 2,
   "metadata": {},
   "outputs": [],
   "source": [
    "from typing import List\n",
    "\n",
    "mapping = [[''], [''], ['a', 'b', 'c'], ['d', 'e', 'f'], ['g', 'h', 'i'], ['j', 'k', 'l'], ['m', 'n', 'o'], ['p', 'q', 'r', 's'], \\\n",
    "                  ['t', 'u', 'v'], ['w', 'x', 'y', 'z']]\n",
    "\n",
    "class Solution:\n",
    "    \n",
    "    def appendRec(self, combination_list, digits):\n",
    "        \n",
    "        new_combination_list = []\n",
    "        if len(digits) > 0:\n",
    "        \n",
    "            current_digit = digits.pop(0)\n",
    "            current_index = int(current_digit)\n",
    "            \n",
    "            for item in combination_list:\n",
    "                for mapped_char in mapping[current_index]:\n",
    "                    new_combination_list.append(item + mapped_char)\n",
    "                \n",
    "            new_combination_list = self.appendRec(new_combination_list, digits)\n",
    "            return new_combination_list\n",
    "\n",
    "        return combination_list\n",
    "    \n",
    "    def letterCombinations(self, digits: str) -> List[str]:\n",
    "\n",
    "        digits_list = []\n",
    "        for digit in digits:\n",
    "            digits_list.append(digit)\n",
    "            \n",
    "            \n",
    "        combination_list = []\n",
    "        \n",
    "        if len(digits_list) > 0:\n",
    "            current_digit = digits_list.pop(0)\n",
    "            current_index = int(current_digit)\n",
    "            for mapped_char in mapping[current_index]:\n",
    "                combination_list.append(mapped_char)\n",
    "\n",
    "            combination_list = self.appendRec(combination_list, digits_list)\n",
    "            \n",
    "        return combination_list"
   ]
  }
 ],
 "metadata": {
  "interpreter": {
   "hash": "88786691155ecc0631a84cd3bcd2f896a3cc7c6632d0f527d47cc0e8c3381f24"
  },
  "kernelspec": {
   "display_name": "Python 3.8.8 64-bit ('base': conda)",
   "name": "python3"
  },
  "language_info": {
   "codemirror_mode": {
    "name": "ipython",
    "version": 3
   },
   "file_extension": ".py",
   "mimetype": "text/x-python",
   "name": "python",
   "nbconvert_exporter": "python",
   "pygments_lexer": "ipython3",
   "version": "3.8.8"
  },
  "orig_nbformat": 4
 },
 "nbformat": 4,
 "nbformat_minor": 2
}
